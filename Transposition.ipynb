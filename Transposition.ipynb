{
 "cells": [
  {
   "cell_type": "code",
   "execution_count": 6,
   "metadata": {},
   "outputs": [
    {
     "name": "stdout",
     "output_type": "stream",
     "text": [
      "Encrypted message: Hoell\n"
     ]
    }
   ],
   "source": [
    "def encrypt(plaintext, key):\n",
    "    ciphertext = [''] * key\n",
    "    \n",
    "    for col in range(key):\n",
    "        pointer = col\n",
    "        while pointer < len(plaintext):\n",
    "            ciphertext[col] += plaintext[pointer]\n",
    "            pointer += key\n",
    "    \n",
    "    return ''.join(ciphertext)\n",
    "\n",
    "\n",
    "\n",
    "# Example usage:\n",
    "plaintext = 'Hello'\n",
    "key = 4\n",
    "\n",
    "encrypted_message = encrypt(plaintext, key)\n",
    "print(\"Encrypted message:\", encrypted_message)\n",
    "\n"
   ]
  },
  {
   "cell_type": "code",
   "execution_count": null,
   "metadata": {},
   "outputs": [],
   "source": []
  }
 ],
 "metadata": {
  "kernelspec": {
   "display_name": "Python 3",
   "language": "python",
   "name": "python3"
  },
  "language_info": {
   "codemirror_mode": {
    "name": "ipython",
    "version": 3
   },
   "file_extension": ".py",
   "mimetype": "text/x-python",
   "name": "python",
   "nbconvert_exporter": "python",
   "pygments_lexer": "ipython3",
   "version": "3.9.6"
  },
  "orig_nbformat": 4
 },
 "nbformat": 4,
 "nbformat_minor": 2
}
