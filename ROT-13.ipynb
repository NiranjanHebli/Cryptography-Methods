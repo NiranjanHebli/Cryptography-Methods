{
 "cells": [
  {
   "cell_type": "code",
   "execution_count": null,
   "metadata": {},
   "outputs": [],
   "source": [
    "def rot13_encrypt(plain_text, shift):\n",
    "    encrypted_text = \"\"\n",
    "    for char in plain_text:\n",
    "        if char.isalpha():\n",
    "            if char.isupper():\n",
    "                encrypted_text += chr((ord(char) - 65 + shift) % 26 + 65)\n",
    "            else:\n",
    "                encrypted_text += chr((ord(char) - 97 + shift) % 26 + 97)\n",
    "        else:\n",
    "            encrypted_text += char\n",
    "    return encrypted_text\n",
    "\n",
    "\n",
    "def rot13_decrypt(cipher_text, shift):\n",
    "    decrypted_text = \"\"\n",
    "    for char in cipher_text:\n",
    "        if char.isalpha():\n",
    "            if char.isupper():\n",
    "                decrypted_text += chr((ord(char) - 65 - shift) % 26 + 65)\n",
    "            else:\n",
    "                decrypted_text += chr((ord(char) - 97 - shift) % 26 + 97)\n",
    "        else:\n",
    "            decrypted_text += char\n",
    "    return decrypted_text\n",
    "\n",
    "\n",
    "shift = 13\n",
    "\n",
    "text=input(\"Enter Text to test:\")\n",
    "\n",
    "encrypted = caesar_encrypt(text, shift)\n",
    "print(\"Encrypted text:\", encrypted)\n",
    "\n",
    "decrypted = caesar_decrypt(encrypted, shift)\n",
    "print(\"Decrypted text:\", decrypted)"
   ]
  }
 ],
 "metadata": {
  "language_info": {
   "name": "python"
  },
  "orig_nbformat": 4
 },
 "nbformat": 4,
 "nbformat_minor": 2
}
