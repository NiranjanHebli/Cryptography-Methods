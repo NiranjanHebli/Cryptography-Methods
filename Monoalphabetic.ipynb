{
 "cells": [
  {
   "cell_type": "code",
   "execution_count": 4,
   "metadata": {},
   "outputs": [
    {
     "name": "stdout",
     "output_type": "stream",
     "text": [
      "Encrypted: svool\n",
      "Decrypted: hello\n"
     ]
    }
   ],
   "source": [
    "def monoalphabetic_cipher(text, key, mode=\"encrypt\"):\n",
    "    # Define the alphabet\n",
    "    alphabet = \"abcdefghijklmnopqrstuvwxyz\"\n",
    "\n",
    "    # Create an empty dictionary for mapping\n",
    "    mapping = {}\n",
    "\n",
    "    if mode == \"encrypt\":\n",
    "        # Create the mapping for encryption\n",
    "        for i in range(len(alphabet)):\n",
    "            mapping[alphabet[i]] = key[i]\n",
    "    elif mode == \"decrypt\":\n",
    "        # Create the mapping for decryption\n",
    "        for i in range(len(alphabet)):\n",
    "            mapping[key[i]] = alphabet[i]\n",
    "\n",
    "    # Apply the mapping to the text\n",
    "    result = \"\"\n",
    "    for char in text:\n",
    "        if char in alphabet:\n",
    "            result += mapping[char]\n",
    "        else:\n",
    "            result += char  # Keep non-alphabetic characters as they are\n",
    "\n",
    "    return result\n",
    "\n",
    "# Example usage for encryption\n",
    "plaintext = \"hello\"\n",
    "encryption_key = \"zyxwvutsrqponmlkjihgfedcba\"\n",
    "encrypted_text = monoalphabetic_cipher(plaintext, encryption_key, \"encrypt\")\n",
    "print(\"Encrypted:\", encrypted_text)\n",
    "\n",
    "# Example usage for decryption\n",
    "decrypted_text = monoalphabetic_cipher(encrypted_text, encryption_key, \"decrypt\")\n",
    "print(\"Decrypted:\", decrypted_text)\n"
   ]
  },
  {
   "cell_type": "code",
   "execution_count": null,
   "metadata": {},
   "outputs": [],
   "source": []
  }
 ],
 "metadata": {
  "kernelspec": {
   "display_name": "Python 3",
   "language": "python",
   "name": "python3"
  },
  "language_info": {
   "codemirror_mode": {
    "name": "ipython",
    "version": 3
   },
   "file_extension": ".py",
   "mimetype": "text/x-python",
   "name": "python",
   "nbconvert_exporter": "python",
   "pygments_lexer": "ipython3",
   "version": "3.9.6"
  },
  "orig_nbformat": 4
 },
 "nbformat": 4,
 "nbformat_minor": 2
}
