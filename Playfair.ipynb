{
 "cells": [
  {
   "cell_type": "code",
   "execution_count": 1,
   "metadata": {},
   "outputs": [],
   "source": [
    "def prepare_key(key):\n",
    "    key = key.replace(\"J\", \"I\")  \n",
    "    key = \"\".join(dict.fromkeys(key))  \n",
    "    alphabet = \"ABCDEFGHIKLMNOPQRSTUVWXYZ\"\n",
    "    for letter in key:\n",
    "        alphabet = alphabet.replace(letter, \"\")\n",
    "    key += alphabet\n",
    "    return key\n",
    "\n",
    "def create_matrix(key):\n",
    "    matrix = [list(key[i:i+5]) for i in range(0, 25, 5)]\n",
    "    return matrix\n",
    "\n",
    "def find_coordinates(matrix, letter):\n",
    "    for i in range(5):\n",
    "        for j in range(5):\n",
    "            if matrix[i][j] == letter:\n",
    "                return i, j\n",
    "\n",
    "def encrypt(plaintext, key):\n",
    "    key = prepare_key(key)\n",
    "    matrix = create_matrix(key)\n",
    "    ciphertext = \"\"\n",
    "    plaintext = plaintext.replace(\"J\", \"I\")  # Replace 'J' with 'I' (optional)\n",
    "    plaintext = plaintext.replace(\" \", \"\")  # Remove spaces\n",
    "    plaintext = [plaintext[i:i+2] for i in range(0, len(plaintext), 2)]\n",
    "\n",
    "    for pair in plaintext:\n",
    "        if len(pair) == 1:\n",
    "            pair += \"X\"\n",
    "        x1, y1 = find_coordinates(matrix, pair[0])\n",
    "        x2, y2 = find_coordinates(matrix, pair[1])\n",
    "        if x1 == x2:\n",
    "            ciphertext += matrix[x1][(y1 + 1) % 5] + matrix[x2][(y2 + 1) % 5]\n",
    "        elif y1 == y2:\n",
    "            ciphertext += matrix[(x1 + 1) % 5][y1] + matrix[(x2 + 1) % 5][y2]\n",
    "        else:\n",
    "            ciphertext += matrix[x1][y2] + matrix[x2][y1]\n",
    "    \n",
    "    return ciphertext\n",
    "\n",
    "def decrypt(ciphertext, key):\n",
    "    key = prepare_key(key)\n",
    "    matrix = create_matrix(key)\n",
    "    plaintext = \"\"\n",
    "    ciphertext = [ciphertext[i:i+2] for i in range(0, len(ciphertext), 2)]\n",
    "\n",
    "    for pair in ciphertext:\n",
    "        x1, y1 = find_coordinates(matrix, pair[0])\n",
    "        x2, y2 = find_coordinates(matrix, pair[1])\n",
    "        if x1 == x2:\n",
    "            plaintext += matrix[x1][(y1 - 1) % 5] + matrix[x2][(y2 - 1) % 5]\n",
    "        elif y1 == y2:\n",
    "            plaintext += matrix[(x1 - 1) % 5][y1] + matrix[(x2 - 1) % 5][y2]\n",
    "        else:\n",
    "            plaintext += matrix[x1][y2] + matrix[x2][y1]\n",
    "    \n",
    "    return plaintext\n",
    "\n",
    "# Example usage\n"
   ]
  },
  {
   "cell_type": "code",
   "execution_count": 2,
   "metadata": {},
   "outputs": [
    {
     "name": "stdout",
     "output_type": "stream",
     "text": [
      "Original Text: HELLO WORLD\n",
      "Encrypted Text: GYFFKOKCGC\n",
      "Decrypted Text: HELLOWORLD\n"
     ]
    }
   ],
   "source": [
    "key = \"KEYWORD\"\n",
    "plaintext = \"HELLO WORLD\"\n",
    "encrypted_text = encrypt(plaintext, key)\n",
    "decrypted_text = decrypt(encrypted_text, key)\n",
    "\n",
    "print(\"Original Text:\", plaintext)\n",
    "print(\"Encrypted Text:\", encrypted_text)\n",
    "print(\"Decrypted Text:\", decrypted_text)"
   ]
  },
  {
   "cell_type": "code",
   "execution_count": null,
   "metadata": {},
   "outputs": [],
   "source": []
  }
 ],
 "metadata": {
  "kernelspec": {
   "display_name": "Python 3",
   "language": "python",
   "name": "python3"
  },
  "language_info": {
   "codemirror_mode": {
    "name": "ipython",
    "version": 3
   },
   "file_extension": ".py",
   "mimetype": "text/x-python",
   "name": "python",
   "nbconvert_exporter": "python",
   "pygments_lexer": "ipython3",
   "version": "3.9.6"
  },
  "orig_nbformat": 4
 },
 "nbformat": 4,
 "nbformat_minor": 2
}
