{
 "cells": [
  {
   "cell_type": "code",
   "execution_count": 3,
   "metadata": {},
   "outputs": [],
   "source": [
    "from math import pow\n",
    "import random"
   ]
  },
  {
   "cell_type": "code",
   "execution_count": 4,
   "metadata": {},
   "outputs": [],
   "source": [
    "def gcd(a, b):\n",
    "    if a < b:\n",
    "        return gcd(b, a)\n",
    "    elif a % b == 0:\n",
    "        return b;\n",
    "    else:\n",
    "        return gcd(b, a % b)"
   ]
  },
  {
   "cell_type": "code",
   "execution_count": 5,
   "metadata": {},
   "outputs": [],
   "source": [
    "def gen_key(q):\n",
    " \n",
    "    key = random.randint(pow(10, 20), q)\n",
    "    while gcd(q, key) != 1:\n",
    "        key = random.randint(pow(10, 20), q)\n",
    " \n",
    "    return key"
   ]
  },
  {
   "cell_type": "code",
   "execution_count": 8,
   "metadata": {},
   "outputs": [],
   "source": [
    " \n",
    "def decrypt(en_msg, p, key, q):\n",
    " \n",
    "    dr_msg = []\n",
    "    h = power(p, key, q)\n",
    "    for i in range(0, len(en_msg)):\n",
    "        dr_msg.append(chr(int(en_msg[i]/h)))\n",
    "         \n",
    "    return dr_msg"
   ]
  },
  {
   "cell_type": "code",
   "execution_count": 6,
   "metadata": {},
   "outputs": [],
   "source": [
    "def power(a, b, c):\n",
    "    x = 1\n",
    "    y = a\n",
    " \n",
    "    while b > 0:\n",
    "        if b % 2 != 0:\n",
    "            x = (x * y) % c;\n",
    "        y = (y * y) % c\n",
    "        b = int(b / 2)\n",
    " \n",
    "    return x % c\n",
    " "
   ]
  },
  {
   "cell_type": "code",
   "execution_count": 7,
   "metadata": {},
   "outputs": [],
   "source": [
    "def encrypt(msg, q, h, g):\n",
    " \n",
    "    en_msg = []\n",
    " \n",
    "    k = gen_key(q)# Private key for sender\n",
    "    s = power(h, k, q)\n",
    "    p = power(g, k, q)\n",
    "     \n",
    "    for i in range(0, len(msg)):\n",
    "        en_msg.append(msg[i])\n",
    " \n",
    "    print(\"g^k used : \", p)\n",
    "    print(\"g^ak used : \", s)\n",
    "    for i in range(0, len(en_msg)):\n",
    "        en_msg[i] = s * ord(en_msg[i])\n",
    " \n",
    "    return en_msg, p"
   ]
  },
  {
   "cell_type": "code",
   "execution_count": 9,
   "metadata": {},
   "outputs": [],
   "source": [
    "def main():\n",
    " \n",
    "    msg = 'encryption'\n",
    "    print(\"Original Message :\", msg)\n",
    " \n",
    "    q = random.randint(pow(10, 20), pow(10, 50))\n",
    "    g = random.randint(2, q)\n",
    " \n",
    "    key = gen_key(q)\n",
    "    h = power(g, key, q)\n",
    "    print(\"g used : \", g)\n",
    "    print(\"g^a used : \", h)\n",
    " \n",
    "    en_msg, p = encrypt(msg, q, h, g)\n",
    "    dr_msg = decrypt(en_msg, p, key, q)\n",
    "    dmsg = ''.join(dr_msg)\n",
    "    print(\"Decrypted Message :\", dmsg);\n",
    "\n",
    "    while True:\n",
    "        choice = input('Do you want to continue? (yes/no): ')\n",
    "        if choice == \"no\":\n",
    "            break;\n",
    "        choice = input('Dp you want to encrypt or decrypt the message:')\n",
    "        if choice == \"encrypt\":\n",
    "            en_msg, p = encrypt(dmsg, q, h, g)\n",
    "        else:\n",
    "            dr_msg = decrypt(en_msg, p, key, q)\n",
    "            dmsg = ''.join(dr_msg)\n",
    "            print(\"Decrypted Message :\", dmsg);\n",
    "\n",
    "        \n",
    " "
   ]
  },
  {
   "cell_type": "code",
   "execution_count": 10,
   "metadata": {},
   "outputs": [
    {
     "name": "stdout",
     "output_type": "stream",
     "text": [
      "Original Message : encryption\n",
      "g used :  10711087444700899522466761953825118835983854996879\n",
      "g^a used :  10732497274804896745913679691356668583671095874319\n",
      "g^k used :  8972474771474248111366929021554686978580837436783\n",
      "g^ak used :  15015488497845010191297757871857224796534484304975\n",
      "Decrypted Message : encryption\n"
     ]
    }
   ],
   "source": [
    "\n",
    " \n",
    "if __name__ == '__main__':\n",
    "    main()"
   ]
  },
  {
   "cell_type": "code",
   "execution_count": null,
   "metadata": {},
   "outputs": [],
   "source": []
  }
 ],
 "metadata": {
  "kernelspec": {
   "display_name": "base",
   "language": "python",
   "name": "python3"
  },
  "language_info": {
   "codemirror_mode": {
    "name": "ipython",
    "version": 3
   },
   "file_extension": ".py",
   "mimetype": "text/x-python",
   "name": "python",
   "nbconvert_exporter": "python",
   "pygments_lexer": "ipython3",
   "version": "3.11.3"
  }
 },
 "nbformat": 4,
 "nbformat_minor": 2
}
