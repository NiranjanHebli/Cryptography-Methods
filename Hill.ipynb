{
 "cells": [
  {
   "cell_type": "code",
   "execution_count": 11,
   "metadata": {},
   "outputs": [
    {
     "ename": "ValueError",
     "evalue": "shapes (3,3) and (1,) not aligned: 3 (dim 1) != 1 (dim 0)",
     "output_type": "error",
     "traceback": [
      "\u001b[0;31m---------------------------------------------------------------------------\u001b[0m",
      "\u001b[0;31mValueError\u001b[0m                                Traceback (most recent call last)",
      "\u001b[1;32m/Users/niranjanhebli/Desktop/Security Lab /Hill.ipynb Cell 1\u001b[0m line \u001b[0;36m3\n\u001b[1;32m     <a href='vscode-notebook-cell:/Users/niranjanhebli/Desktop/Security%20Lab%20/Hill.ipynb#W0sZmlsZQ%3D%3D?line=28'>29</a>\u001b[0m key_matrix \u001b[39m=\u001b[39m np\u001b[39m.\u001b[39marray([[\u001b[39m6\u001b[39m, \u001b[39m24\u001b[39m, \u001b[39m1\u001b[39m], [\u001b[39m13\u001b[39m, \u001b[39m16\u001b[39m, \u001b[39m10\u001b[39m], [\u001b[39m20\u001b[39m, \u001b[39m17\u001b[39m, \u001b[39m15\u001b[39m]])\n\u001b[1;32m     <a href='vscode-notebook-cell:/Users/niranjanhebli/Desktop/Security%20Lab%20/Hill.ipynb#W0sZmlsZQ%3D%3D?line=29'>30</a>\u001b[0m message \u001b[39m=\u001b[39m \u001b[39m\"\u001b[39m\u001b[39mHELLOHILLCIPHER\u001b[39m\u001b[39m\"\u001b[39m\n\u001b[0;32m---> <a href='vscode-notebook-cell:/Users/niranjanhebli/Desktop/Security%20Lab%20/Hill.ipynb#W0sZmlsZQ%3D%3D?line=30'>31</a>\u001b[0m encrypted_message \u001b[39m=\u001b[39m hill_cipher_encrypt(message, key_matrix)\n\u001b[1;32m     <a href='vscode-notebook-cell:/Users/niranjanhebli/Desktop/Security%20Lab%20/Hill.ipynb#W0sZmlsZQ%3D%3D?line=31'>32</a>\u001b[0m decrypted_message \u001b[39m=\u001b[39m hill_cipher_decrypt(encrypted_message, key_matrix)\n\u001b[1;32m     <a href='vscode-notebook-cell:/Users/niranjanhebli/Desktop/Security%20Lab%20/Hill.ipynb#W0sZmlsZQ%3D%3D?line=33'>34</a>\u001b[0m \u001b[39mprint\u001b[39m(\u001b[39m\"\u001b[39m\u001b[39mOriginal Message:\u001b[39m\u001b[39m\"\u001b[39m, message)\n",
      "\u001b[1;32m/Users/niranjanhebli/Desktop/Security Lab /Hill.ipynb Cell 1\u001b[0m line \u001b[0;36m2\n\u001b[1;32m     <a href='vscode-notebook-cell:/Users/niranjanhebli/Desktop/Security%20Lab%20/Hill.ipynb#W0sZmlsZQ%3D%3D?line=18'>19</a>\u001b[0m \u001b[39mfor\u001b[39;00m i \u001b[39min\u001b[39;00m \u001b[39mrange\u001b[39m(\u001b[39m0\u001b[39m, \u001b[39mlen\u001b[39m(plain_text), key_size):\n\u001b[1;32m     <a href='vscode-notebook-cell:/Users/niranjanhebli/Desktop/Security%20Lab%20/Hill.ipynb#W0sZmlsZQ%3D%3D?line=19'>20</a>\u001b[0m     block \u001b[39m=\u001b[39m [\u001b[39mord\u001b[39m(char) \u001b[39m-\u001b[39m \u001b[39m65\u001b[39m \u001b[39mfor\u001b[39;00m char \u001b[39min\u001b[39;00m plain_text[i:i \u001b[39m+\u001b[39m key_size]]\n\u001b[0;32m---> <a href='vscode-notebook-cell:/Users/niranjanhebli/Desktop/Security%20Lab%20/Hill.ipynb#W0sZmlsZQ%3D%3D?line=20'>21</a>\u001b[0m     result \u001b[39m=\u001b[39m np\u001b[39m.\u001b[39;49mdot(key_matrix, block) \u001b[39m%\u001b[39m \u001b[39m26\u001b[39m\n\u001b[1;32m     <a href='vscode-notebook-cell:/Users/niranjanhebli/Desktop/Security%20Lab%20/Hill.ipynb#W0sZmlsZQ%3D%3D?line=21'>22</a>\u001b[0m     cipher_text \u001b[39m+\u001b[39m\u001b[39m=\u001b[39m \u001b[39m\"\u001b[39m\u001b[39m\"\u001b[39m\u001b[39m.\u001b[39mjoin([\u001b[39mchr\u001b[39m(char \u001b[39m+\u001b[39m \u001b[39m65\u001b[39m) \u001b[39mfor\u001b[39;00m char \u001b[39min\u001b[39;00m result])\n\u001b[1;32m     <a href='vscode-notebook-cell:/Users/niranjanhebli/Desktop/Security%20Lab%20/Hill.ipynb#W0sZmlsZQ%3D%3D?line=23'>24</a>\u001b[0m \u001b[39mreturn\u001b[39;00m cipher_text\n",
      "\u001b[0;31mValueError\u001b[0m: shapes (3,3) and (1,) not aligned: 3 (dim 1) != 1 (dim 0)"
     ]
    }
   ],
   "source": [
    "import numpy as np\n",
    "\n",
    "# Define a function for Hill cipher encryption\n",
    "def hill_cipher_encrypt(plain_text, key_matrix):\n",
    "    # Convert the plain text to uppercase and remove spaces\n",
    "    plain_text = plain_text.replace(\" \", \"\").upper()\n",
    "\n",
    "    # Calculate the size of the key matrix\n",
    "    key_size = int(len(key_matrix) ** 0.5)\n",
    "\n",
    "    # Ensure the length of the plain text is a multiple of the key size\n",
    "    while len(plain_text) % key_size != 0:\n",
    "        plain_text += \"X\"\n",
    "\n",
    "    # Initialize an empty ciphertext\n",
    "    cipher_text = \"\"\n",
    "\n",
    "    # Perform matrix multiplication for encryption\n",
    "    for i in range(0, len(plain_text), key_size):\n",
    "        block = [ord(char) - 65 for char in plain_text[i:i + key_size]]\n",
    "        result = np.dot(key_matrix, block) % 26\n",
    "        cipher_text += \"\".join([chr(char + 65) for char in result])\n",
    "\n",
    "    return cipher_text\n",
    "\n",
    "\n",
    "\n",
    "# Example usage\n",
    "key_matrix = np.array([[6, 24, 1], [13, 16, 10], [20, 17, 15]])\n",
    "message = \"HELLOHILLCIPHER\"\n",
    "encrypted_message = hill_cipher_encrypt(message, key_matrix)\n",
    "decrypted_message = hill_cipher_decrypt(encrypted_message, key_matrix)\n",
    "\n",
    "print(\"Original Message:\", message)\n",
    "print(\"Encrypted Message:\", encrypted_message)\n",
    "\n"
   ]
  },
  {
   "cell_type": "code",
   "execution_count": null,
   "metadata": {},
   "outputs": [],
   "source": []
  }
 ],
 "metadata": {
  "kernelspec": {
   "display_name": "Python 3",
   "language": "python",
   "name": "python3"
  },
  "language_info": {
   "codemirror_mode": {
    "name": "ipython",
    "version": 3
   },
   "file_extension": ".py",
   "mimetype": "text/x-python",
   "name": "python",
   "nbconvert_exporter": "python",
   "pygments_lexer": "ipython3",
   "version": "3.9.6"
  },
  "orig_nbformat": 4
 },
 "nbformat": 4,
 "nbformat_minor": 2
}
