{
 "cells": [
  {
   "cell_type": "code",
   "execution_count": 2,
   "metadata": {},
   "outputs": [
    {
     "name": "stdout",
     "output_type": "stream",
     "text": [
      "Encrypted Text: Rijvs, Ambpb!\n",
      "Decrypted Text: Hello, World!\n"
     ]
    }
   ],
   "source": [
    "def encrypt(text, key):\n",
    "    encrypted_text = \"\"\n",
    "    for i in range(len(text)):\n",
    "        char = text[i]\n",
    "        if char.isalpha():\n",
    "            shift = ord(key[i % len(key)]) - ord('a')\n",
    "            if char.islower():\n",
    "                encrypted_char = chr(((ord(char) - ord('a') + shift) % 26) + ord('a'))\n",
    "            else:\n",
    "                encrypted_char = chr(((ord(char) - ord('A') + shift) % 26) + ord('A'))\n",
    "            encrypted_text += encrypted_char\n",
    "        else:\n",
    "            encrypted_text += char\n",
    "    return encrypted_text\n",
    "\n",
    "def decrypt(encrypted_text, key):\n",
    "    decrypted_text = \"\"\n",
    "    for i in range(len(encrypted_text)):\n",
    "        char = encrypted_text[i]\n",
    "        if char.isalpha():\n",
    "            shift = ord(key[i % len(key)]) - ord('a')\n",
    "            if char.islower():\n",
    "                decrypted_char = chr(((ord(char) - ord('a') - shift) % 26) + ord('a'))\n",
    "            else:\n",
    "                decrypted_char = chr(((ord(char) - ord('A') - shift) % 26) + ord('A'))\n",
    "            decrypted_text += decrypted_char\n",
    "        else:\n",
    "            decrypted_text += char\n",
    "    return decrypted_text\n",
    "\n",
    "# Example usage\n",
    "text = \"Hello, World!\"\n",
    "key = \"key\"\n",
    "encrypted_text = encrypt(text, key)\n",
    "print(\"Encrypted Text:\", encrypted_text)\n",
    "decrypted_text = decrypt(encrypted_text, key)\n",
    "print(\"Decrypted Text:\", decrypted_text)\n"
   ]
  },
  {
   "cell_type": "code",
   "execution_count": null,
   "metadata": {},
   "outputs": [],
   "source": []
  }
 ],
 "metadata": {
  "kernelspec": {
   "display_name": "Python 3",
   "language": "python",
   "name": "python3"
  },
  "language_info": {
   "codemirror_mode": {
    "name": "ipython",
    "version": 3
   },
   "file_extension": ".py",
   "mimetype": "text/x-python",
   "name": "python",
   "nbconvert_exporter": "python",
   "pygments_lexer": "ipython3",
   "version": "3.9.6"
  },
  "orig_nbformat": 4
 },
 "nbformat": 4,
 "nbformat_minor": 2
}
