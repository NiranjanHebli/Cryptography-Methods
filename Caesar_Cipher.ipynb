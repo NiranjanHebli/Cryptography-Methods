{
 "cells": [
  {
   "cell_type": "code",
   "execution_count": 1,
   "metadata": {},
   "outputs": [
    {
     "name": "stdout",
     "output_type": "stream",
     "text": [
      "Encrypted text: khoor zruog\n",
      "Decrypted text: hello world\n"
     ]
    }
   ],
   "source": [
    "def caesar_encrypt(plain_text,key):\n",
    "    encrypted_text = \"\"\n",
    "    for char in plain_text:\n",
    "        if char.isalpha():\n",
    "            if char.isupper():\n",
    "                encrypted_text += chr((ord(char) - 65 +key) % 26 + 65)\n",
    "            else:\n",
    "                encrypted_text += chr((ord(char) - 97 +key) % 26 + 97)\n",
    "        else:\n",
    "            encrypted_text += char\n",
    "    return encrypted_text\n",
    "\n",
    "\n",
    "def caesar_decrypt(cipher_text,key):\n",
    "    decrypted_text = \"\"\n",
    "    for char in cipher_text:\n",
    "        if char.isalpha():\n",
    "            if char.isupper():\n",
    "                decrypted_text += chr((ord(char) - 65 -key) % 26 + 65)\n",
    "            else:\n",
    "                decrypted_text += chr((ord(char) - 97 -key) % 26 + 97)\n",
    "        else:\n",
    "            decrypted_text += char\n",
    "    return decrypted_text\n",
    "\n",
    "\n",
    "key= 3\n",
    "\n",
    "text=input(\"Enter Text to test:\")\n",
    "\n",
    "encrypted = caesar_encrypt(text,key)\n",
    "print(\"Encrypted text:\", encrypted)\n",
    "\n",
    "decrypted = caesar_decrypt(encrypted,key)\n",
    "print(\"Decrypted text:\", decrypted)"
   ]
  },
  {
   "cell_type": "code",
   "execution_count": null,
   "metadata": {},
   "outputs": [],
   "source": []
  }
 ],
 "metadata": {
  "kernelspec": {
   "display_name": "Python 3",
   "language": "python",
   "name": "python3"
  },
  "language_info": {
   "codemirror_mode": {
    "name": "ipython",
    "version": 3
   },
   "file_extension": ".py",
   "mimetype": "text/x-python",
   "name": "python",
   "nbconvert_exporter": "python",
   "pygments_lexer": "ipython3",
   "version": "3.9.6"
  },
  "orig_nbformat": 4
 },
 "nbformat": 4,
 "nbformat_minor": 2
}
