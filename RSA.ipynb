{
 "cells": [
  {
   "cell_type": "code",
   "execution_count": null,
   "metadata": {},
   "outputs": [],
   "source": [
    "import random \n",
    "import math "
   ]
  },
  {
   "cell_type": "code",
   "execution_count": null,
   "metadata": {},
   "outputs": [],
   "source": [
    "prime = set()\n",
    " \n",
    "public_key = None\n",
    "private_key = None\n",
    "n = None"
   ]
  },
  {
   "cell_type": "code",
   "execution_count": null,
   "metadata": {},
   "outputs": [],
   "source": [
    "print(prime)"
   ]
  },
  {
   "cell_type": "code",
   "execution_count": null,
   "metadata": {},
   "outputs": [],
   "source": [
    "def primefiller():\n",
    "    seive = [True] * 250\n",
    "    seive[0] = False\n",
    "    seive[1] = False\n",
    "    for i in range(2, 250):\n",
    "        for j in range(i * 2, 250, i):\n",
    "            seive[j] = False\n",
    " \n",
    "    for i in range(len(seive)):\n",
    "        if seive[i]:\n",
    "            prime.add(i)"
   ]
  },
  {
   "cell_type": "code",
   "execution_count": null,
   "metadata": {},
   "outputs": [],
   "source": [
    "def pickrandomprime():\n",
    "    global prime\n",
    "    k = random.randint(0, len(prime) - 1)\n",
    "    it = iter(prime)\n",
    "    for i in range(k):\n",
    "        next(it)\n",
    " \n",
    "    ret = next(it)\n",
    "    prime.remove(ret)\n",
    "    return ret"
   ]
  },
  {
   "cell_type": "code",
   "execution_count": null,
   "metadata": {},
   "outputs": [],
   "source": [
    "def setkeys():\n",
    "    global public_key, private_key, n\n",
    "    prime1 = pickrandomprime()  \n",
    "    prime2 = pickrandomprime()  \n",
    " \n",
    "    n = prime1 * prime2\n",
    "    fi = (prime1 - 1) * (prime2 - 1)\n",
    " \n",
    "    e = 2\n",
    "    \n",
    "    while True:\n",
    "        if math.gcd(e, fi) == 1:\n",
    "            break\n",
    "        e += 1\n",
    "    public_key = e\n",
    " \n",
    "    d = 2\n",
    "    while True:\n",
    "        if (d * e) % fi == 1:\n",
    "            break\n",
    "        d += 1\n",
    " \n",
    "    private_key = d"
   ]
  },
  {
   "cell_type": "code",
   "execution_count": null,
   "metadata": {},
   "outputs": [],
   "source": [
    "def encrypt(message):\n",
    "    global public_key, n\n",
    "    e = public_key\n",
    "    encrypted_text = 1\n",
    "    while e > 0:\n",
    "        encrypted_text *= message\n",
    "        encrypted_text %= n\n",
    "        e -= 1\n",
    "    return encrypted_text"
   ]
  },
  {
   "cell_type": "code",
   "execution_count": null,
   "metadata": {},
   "outputs": [],
   "source": [
    "def decrypt(encrypted_text):\n",
    "    global private_key, n\n",
    "    d = private_key\n",
    "    decrypted = 1\n",
    "    while d > 0:\n",
    "        decrypted *= encrypted_text\n",
    "        decrypted %= n\n",
    "        d -= 1\n",
    "    return decrypted"
   ]
  },
  {
   "cell_type": "code",
   "execution_count": null,
   "metadata": {},
   "outputs": [],
   "source": [
    "def encoder(message):\n",
    "    encoded = []\n",
    "    for letter in message:\n",
    "        encoded.append(encrypt(ord(letter)))\n",
    "    return encoded"
   ]
  },
  {
   "cell_type": "code",
   "execution_count": null,
   "metadata": {},
   "outputs": [],
   "source": [
    "def decoder(encoded):\n",
    "    s = ''\n",
    "    for num in encoded:\n",
    "        s += chr(decrypt(num))\n",
    "    return s"
   ]
  },
  {
   "cell_type": "code",
   "execution_count": null,
   "metadata": {},
   "outputs": [],
   "source": [
    "if __name__ == '__main__':\n",
    "    primefiller()\n",
    "    setkeys()\n",
    "    message = \"Test Message\"\n",
    "    coded = encoder(message)\n",
    "    print(\"Initial message:\")\n",
    "    print(message)\n",
    "    print(\"\\n\\nThe encoded message(encrypted by public key)\\n\")\n",
    "    print(''.join(str(p) for p in coded))\n",
    "    print(\"\\n\\nThe decoded message(decrypted by public key)\\n\")\n",
    "    print(''.join(str(p) for p in decoder(coded)))"
   ]
  }
 ],
 "metadata": {
  "kernelspec": {
   "display_name": "base",
   "language": "python",
   "name": "python3"
  },
  "language_info": {
   "codemirror_mode": {
    "name": "ipython",
    "version": 3
   },
   "file_extension": ".py",
   "mimetype": "text/x-python",
   "name": "python",
   "nbconvert_exporter": "python",
   "pygments_lexer": "ipython3",
   "version": "3.11.3"
  }
 },
 "nbformat": 4,
 "nbformat_minor": 2
}
